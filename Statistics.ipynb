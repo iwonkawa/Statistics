{
 "cells": [
  {
   "cell_type": "markdown",
   "id": "d310f8f9-c274-435d-8842-902fb0c9149d",
   "metadata": {},
   "source": [
    "Statistics"
   ]
  },
  {
   "cell_type": "code",
   "execution_count": 15,
   "id": "7089f4ac-464e-4850-b004-3b7ed045ba58",
   "metadata": {},
   "outputs": [
    {
     "data": {
      "text/html": [
       "<div>\n",
       "<style scoped>\n",
       "    .dataframe tbody tr th:only-of-type {\n",
       "        vertical-align: middle;\n",
       "    }\n",
       "\n",
       "    .dataframe tbody tr th {\n",
       "        vertical-align: top;\n",
       "    }\n",
       "\n",
       "    .dataframe thead th {\n",
       "        text-align: right;\n",
       "    }\n",
       "</style>\n",
       "<table border=\"1\" class=\"dataframe\">\n",
       "  <thead>\n",
       "    <tr style=\"text-align: right;\">\n",
       "      <th></th>\n",
       "      <th>Statistic</th>\n",
       "      <th>Sample Size 100</th>\n",
       "      <th>Sample Size 10,000</th>\n",
       "    </tr>\n",
       "  </thead>\n",
       "  <tbody>\n",
       "    <tr>\n",
       "      <th>0</th>\n",
       "      <td>Mean</td>\n",
       "      <td>3.348747</td>\n",
       "      <td>2.978463</td>\n",
       "    </tr>\n",
       "    <tr>\n",
       "      <th>1</th>\n",
       "      <td>Median</td>\n",
       "      <td>3.346255</td>\n",
       "      <td>2.968966</td>\n",
       "    </tr>\n",
       "    <tr>\n",
       "      <th>2</th>\n",
       "      <td>Mode</td>\n",
       "      <td>0.926071</td>\n",
       "      <td>-0.535762</td>\n",
       "    </tr>\n",
       "    <tr>\n",
       "      <th>3</th>\n",
       "      <td>1st Quartile (Q1)</td>\n",
       "      <td>2.605357</td>\n",
       "      <td>2.302967</td>\n",
       "    </tr>\n",
       "    <tr>\n",
       "      <th>4</th>\n",
       "      <td>3rd Quartile (Q3)</td>\n",
       "      <td>4.112184</td>\n",
       "      <td>3.649948</td>\n",
       "    </tr>\n",
       "    <tr>\n",
       "      <th>5</th>\n",
       "      <td>Range</td>\n",
       "      <td>4.811760</td>\n",
       "      <td>7.461104</td>\n",
       "    </tr>\n",
       "    <tr>\n",
       "      <th>6</th>\n",
       "      <td>IQR</td>\n",
       "      <td>1.506826</td>\n",
       "      <td>1.346981</td>\n",
       "    </tr>\n",
       "    <tr>\n",
       "      <th>7</th>\n",
       "      <td>Variance</td>\n",
       "      <td>1.074192</td>\n",
       "      <td>0.977052</td>\n",
       "    </tr>\n",
       "    <tr>\n",
       "      <th>8</th>\n",
       "      <td>Standard Deviation</td>\n",
       "      <td>1.036432</td>\n",
       "      <td>0.988459</td>\n",
       "    </tr>\n",
       "    <tr>\n",
       "      <th>9</th>\n",
       "      <td>Skewness</td>\n",
       "      <td>0.021570</td>\n",
       "      <td>0.021164</td>\n",
       "    </tr>\n",
       "    <tr>\n",
       "      <th>10</th>\n",
       "      <td>Min</td>\n",
       "      <td>0.926071</td>\n",
       "      <td>-0.535762</td>\n",
       "    </tr>\n",
       "    <tr>\n",
       "      <th>11</th>\n",
       "      <td>Max</td>\n",
       "      <td>5.737831</td>\n",
       "      <td>6.925342</td>\n",
       "    </tr>\n",
       "  </tbody>\n",
       "</table>\n",
       "</div>"
      ],
      "text/plain": [
       "             Statistic  Sample Size 100  Sample Size 10,000\n",
       "0                 Mean         3.348747            2.978463\n",
       "1               Median         3.346255            2.968966\n",
       "2                 Mode         0.926071           -0.535762\n",
       "3    1st Quartile (Q1)         2.605357            2.302967\n",
       "4    3rd Quartile (Q3)         4.112184            3.649948\n",
       "5                Range         4.811760            7.461104\n",
       "6                  IQR         1.506826            1.346981\n",
       "7             Variance         1.074192            0.977052\n",
       "8   Standard Deviation         1.036432            0.988459\n",
       "9             Skewness         0.021570            0.021164\n",
       "10                 Min         0.926071           -0.535762\n",
       "11                 Max         5.737831            6.925342"
      ]
     },
     "execution_count": 15,
     "metadata": {},
     "output_type": "execute_result"
    }
   ],
   "source": [
    "\n",
    "# Importing Necessary Libraries\n",
    "\n",
    "import numpy as np\n",
    "import pandas as pd\n",
    "import scipy.stats as stats\n",
    "\n",
    "\n",
    "# Function to Generate Gaussian Distribution Data\n",
    "\n",
    "def gauss(size, sigma=1, mu=3):\n",
    "    \"\"\"Generates random data from a normal distribution.\"\"\"\n",
    "    return np.random.normal(mu, sigma, size)\n",
    "\n",
    "\n",
    "# Generating Datasets\n",
    "\n",
    "data_100 = gauss(100)\n",
    "data_10000 = gauss(10000)\n",
    "\n",
    "\n",
    "# Function to Calculate Descriptive Statistics\n",
    "\n",
    "def calculate_statistics_final(data):\n",
    "    \"\"\"Calculates a variety of descriptive statistics for a given dataset.\"\"\"\n",
    "    mode_result = stats.mode(data, keepdims=True)\n",
    "    mode_value = mode_result.mode[0] if len(mode_result.mode) > 0 else np.nan\n",
    "    statistics = {\n",
    "        'Mean': np.mean(data),\n",
    "        'Median': np.median(data),\n",
    "        'Mode': mode_value,\n",
    "        '1st Quartile (Q1)': np.percentile(data, 25),\n",
    "        '3rd Quartile (Q3)': np.percentile(data, 75),\n",
    "        'Range': np.max(data) - np.min(data),\n",
    "        'IQR': stats.iqr(data),\n",
    "        'Variance': np.var(data),\n",
    "        'Standard Deviation': np.std(data),\n",
    "        'Skewness': stats.skew(data),\n",
    "        'Min': np.min(data),\n",
    "        'Max': np.max(data)\n",
    "    }\n",
    "    return statistics\n",
    "\n",
    "\n",
    "# Calculating Statistics for Both Datasets\n",
    "\n",
    "stats_100_final = calculate_statistics_final(data_100)\n",
    "stats_10000_final = calculate_statistics_final(data_10000)\n",
    "\n",
    "\n",
    "# Creating DataFrame to Compare Statistics\n",
    "\n",
    "df_stats_final = pd.DataFrame({\n",
    "    'Statistic': stats_100_final.keys(),\n",
    "    'Sample Size 100': stats_100_final.values(),\n",
    "    'Sample Size 10,000': stats_10000_final.values()\n",
    "})\n",
    "\n",
    "\n",
    "# Displaying the DataFrame with the Statistics\n",
    "\n",
    "df_stats_final"
   ]
  },
  {
   "cell_type": "markdown",
   "id": "88a6090e-b60c-4e99-a563-5627894e8972",
   "metadata": {},
   "source": [
    "1. Mean and Median: In both cases, the values are close to the expected mean (3). However, with a larger number of samples (10,000), the mean and median are more stable and closer to the theoretical value"
   ]
  },
  {
   "cell_type": "markdown",
   "id": "d3764f92-ee47-4265-906a-a757f3b82789",
   "metadata": {},
   "source": [
    "2. Mode: For a sample size of 100, the mode is more variable and less reliable, due to the smaller amount of data and the possibility of outliers. For a large sample (10,000), mode may also be less relevant for normally distributed data, where the values are more dispersed."
   ]
  },
  {
   "cell_type": "markdown",
   "id": "b279c824-db1e-473a-8d94-36f36fd8f455",
   "metadata": {},
   "source": [
    "3. Quartiles (Q1 and Q3) and IQR: The first quartile (Q1) and third quartile (Q3), along with the interquartile range (IQR), are more stable and closer to expected values in the larger sample. Smaller samples show more variability in these statistics."
   ]
  },
  {
   "cell_type": "markdown",
   "id": "eb347e48-9beb-47df-9a42-d20fb2fe9710",
   "metadata": {},
   "source": [
    "4. Range: The range is wider for the smaller sample, indicating more extreme values. The larger sample gives a range closer to what is expected in a normal distribution, where extreme values are less likely."
   ]
  },
  {
   "cell_type": "markdown",
   "id": "ecb9752d-414d-4708-a5fb-7881641963ac",
   "metadata": {},
   "source": [
    "5. Variance and Standard Deviation: Both variance and standard deviation are more stable and closer to the expected values in the larger sample. The smaller sample shows more variability, which is typical in small datasets."
   ]
  },
  {
   "cell_type": "markdown",
   "id": "88cf762c-2452-46fd-9e90-1918ed45e387",
   "metadata": {},
   "source": [
    "6. Skewness: Skewness is closer to zero (indicating a symmetric distribution) in the larger sample, while the smaller sample shows more skewness, reflecting the increased impact of random fluctuations."
   ]
  },
  {
   "cell_type": "markdown",
   "id": "3ec4bc28-23f6-45fc-95ec-c64137785ba4",
   "metadata": {},
   "source": [
    "In conclusion, the larger sample size (10,000) produces more stable and reliable estimates of the statistical parameters, whereas the smaller sample (100) shows more variability and less reliable estimates, particularly for measures sensitive to sample size, like mode and skewness."
   ]
  }
 ],
 "metadata": {
  "kernelspec": {
   "display_name": "Python 3 (ipykernel)",
   "language": "python",
   "name": "python3"
  },
  "language_info": {
   "codemirror_mode": {
    "name": "ipython",
    "version": 3
   },
   "file_extension": ".py",
   "mimetype": "text/x-python",
   "name": "python",
   "nbconvert_exporter": "python",
   "pygments_lexer": "ipython3",
   "version": "3.11.7"
  }
 },
 "nbformat": 4,
 "nbformat_minor": 5
}
